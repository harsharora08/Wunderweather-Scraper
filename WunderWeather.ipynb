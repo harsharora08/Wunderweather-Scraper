{
 "cells": [
  {
   "cell_type": "markdown",
   "id": "MY4Hm1HzPS3Z",
   "metadata": {
    "id": "MY4Hm1HzPS3Z"
   },
   "source": [
    "## Codes\n"
   ]
  },
  {
   "cell_type": "code",
   "execution_count": null,
   "id": "eb3e53f3",
   "metadata": {
    "id": "eb3e53f3"
   },
   "outputs": [],
   "source": [
    "!pip install geonamescache\n",
    "!pip install selenium\n",
    "!apt install chromium-chromedriver\n",
    "!cp /usr/lib/chromium-browser/chromedriver /usr/bin\n",
    "import sys\n",
    "sys.path.insert(0,'/usr/lib/chromium-browser/chromedriver')"
   ]
  },
  {
   "cell_type": "code",
   "execution_count": null,
   "id": "0d4bb7c4",
   "metadata": {
    "hide_input": false,
    "id": "0d4bb7c4"
   },
   "outputs": [],
   "source": [
    "import pandas as pd\n",
    "\n",
    "import selenium.webdriver as wd\n",
    "from selenium.webdriver.common.by import By\n",
    "import time\n",
    "\n",
    "import geonamescache\n",
    "\n",
    "from ipywidgets import widgets\n",
    "\n",
    "import plotly.express as px"
   ]
  },
  {
   "cell_type": "code",
   "execution_count": null,
   "id": "04ef1960",
   "metadata": {
    "hide_input": false,
    "id": "04ef1960"
   },
   "outputs": [],
   "source": [
    "bar = widgets.IntProgress(\n",
    "        value=0,\n",
    "        min=0,\n",
    "        max=11,\n",
    "        description='Loading:',\n",
    "        style={'bar_color': 'gray'}\n",
    "    )\n",
    "\n",
    "text = widgets.Text(placeholder='Mumbai', description='City: ')\n",
    "\n",
    "submit_button = widgets.Button(description='Submit')"
   ]
  },
  {
   "cell_type": "code",
   "execution_count": null,
   "id": "de6d9b4c",
   "metadata": {
    "hide_input": false,
    "id": "de6d9b4c",
    "scrolled": true
   },
   "outputs": [],
   "source": [
    "def getWeather(city):\n",
    "    dfs_t = []\n",
    "    dfs_h = []\n",
    "    dfs_w = []\n",
    "    dfs_p = []\n",
    "    for i in range(12):\n",
    "        ccode = gc.search_cities(city)[0]['countrycode']\n",
    "        cityname = city\n",
    "\n",
    "        url = 'https://www.wunderground.com/history/monthly/{}/{}/date/2021-{}'.format(ccode, cityname, str(i+1).zfill(2))\n",
    "        \n",
    "        co = wd.ChromeOptions()\n",
    "        co.add_argument('--headless')\n",
    "        co.add_argument('--no-sandbox')\n",
    "        co.add_argument('--disable-dev-shm-usage')\n",
    "        dr = wd.Chrome('chromedriver', options=co)\n",
    "\n",
    "        dr.get(url)\n",
    "\n",
    "        time.sleep(10)\n",
    "\n",
    "        tem = dr.find_element(By.CSS_SELECTOR,\n",
    "                            'table.days[_ngcontent-app-root-c208] tbody[_ngcontent-app-root-c208] tr[_ngcontent-app-root-c208] td[_ngcontent-app-root-c208]:nth-child(2n)')\n",
    "        wsp = dr.find_element(By.CSS_SELECTOR,\n",
    "                            'table.days[_ngcontent-app-root-c208] tbody[_ngcontent-app-root-c208] tr[_ngcontent-app-root-c208] td[_ngcontent-app-root-c208]:nth-child(4n)')\n",
    "        hum = dr.find_element(By.CSS_SELECTOR,\n",
    "                            'table.days[_ngcontent-app-root-c208] tbody[_ngcontent-app-root-c208] tr[_ngcontent-app-root-c208] td[_ngcontent-app-root-c208]:nth-child(5n)')\n",
    "        pre = dr.find_element(By.CSS_SELECTOR,\n",
    "                            'table.days[_ngcontent-app-root-c208] tbody[_ngcontent-app-root-c208] tr[_ngcontent-app-root-c208] td[_ngcontent-app-root-c208]:nth-child(7n)')\n",
    "\n",
    "        df_t = pd.DataFrame([eval(q.split()[1]) for q in tem.text.split('\\n')[1:]])\n",
    "        df_w = pd.DataFrame([eval(q.split()[1]) for q in wsp.text.split('\\n')[1:]])\n",
    "        df_h = pd.DataFrame([eval(q.split()[1]) for q in hum.text.split('\\n')[1:]])\n",
    "        df_p = pd.DataFrame([eval(q.split()[0]) for q in pre.text.split('\\n')[1:]])\n",
    "\n",
    "        dfs_t.append(df_t)\n",
    "        dfs_w.append(df_w)\n",
    "        dfs_h.append(df_h)\n",
    "        dfs_p.append(df_p)\n",
    "\n",
    "        dr.quit()\n",
    "        \n",
    "        bar.value = i\n",
    "        \n",
    "    temp = pd.concat(dfs_t)\n",
    "    wind = pd.concat(dfs_w)\n",
    "    humi = pd.concat(dfs_h)\n",
    "    prec = pd.concat(dfs_p)\n",
    "    \n",
    "    temp.columns = ['Temperature (°F)']\n",
    "    wind.columns = ['Wind (mph)']\n",
    "    humi.columns = ['Humidity (%)']\n",
    "    prec.columns = ['Precipitation (in)']\n",
    "\n",
    "    for x in [temp, wind, humi, prec]:\n",
    "        x.reset_index(drop=True, inplace=True)\n",
    "        x.index = pd.date_range(start='2021-01', periods=len(x), freq='D', name='Date')\n",
    "    \n",
    "    return [temp, wind, humi, prec]"
   ]
  },
  {
   "cell_type": "code",
   "execution_count": null,
   "id": "e1379e34",
   "metadata": {
    "hide_input": false,
    "id": "e1379e34"
   },
   "outputs": [],
   "source": [
    "cityx = []\n",
    "gc = geonamescache.GeonamesCache()\n",
    "\n",
    "def on_button_click(b):\n",
    "    cityx.append(text.value)\n",
    "    display(bar)\n",
    "    city = cityx[-1]\n",
    "    temp, wind, humi, prec = getWeather(city.capitalize())\n",
    "    px.line(data_frame=temp, y='Temperature (°F)', color_discrete_sequence=['grey'],\n",
    "            title='Average Temperature of {}, {} in 2021'.format(city.capitalize(), gc.search_cities(city.capitalize())[0]['countrycode'].upper())).show()\n",
    "    px.line(data_frame=wind, y='Wind (mph)', color_discrete_sequence=['grey'],\n",
    "            title='Average Wind Speed of {}, {} in 2021'.format(city.capitalize(), gc.search_cities(city.capitalize())[0]['countrycode'].upper())).show()\n",
    "    px.line(data_frame=humi, y='Humidity (%)', color_discrete_sequence=['grey'],\n",
    "            title='Average Humidity of {}, {} in 2021'.format(city.capitalize(), gc.search_cities(city.capitalize())[0]['countrycode'].upper())).show()\n",
    "    px.line(data_frame=prec, y='Precipitation (in)', color_discrete_sequence=['grey'],\n",
    "            title='Average Precipitation of {}, {} in 2021'.format(city.capitalize(), gc.search_cities(city.capitalize())[0]['countrycode'].upper())).show()"
   ]
  },
  {
   "cell_type": "code",
   "execution_count": null,
   "id": "9ad17f32",
   "metadata": {
    "hide_input": false,
    "id": "9ad17f32"
   },
   "outputs": [],
   "source": [
    "submit_button.on_click(on_button_click)"
   ]
  },
  {
   "cell_type": "code",
   "execution_count": null,
   "id": "uMCeB4528oPx",
   "metadata": {
    "id": "uMCeB4528oPx"
   },
   "outputs": [],
   "source": [
    "toShow = widgets.HBox([text, submit_button])"
   ]
  },
  {
   "cell_type": "markdown",
   "id": "UwujfqpOPkd9",
   "metadata": {
    "id": "UwujfqpOPkd9"
   },
   "source": [
    "# Execution\n"
   ]
  },
  {
   "cell_type": "code",
   "execution_count": null,
   "id": "70f378ea",
   "metadata": {},
   "outputs": [],
   "source": [
    "toShow"
   ]
  }
 ],
 "metadata": {
  "colab": {
   "collapsed_sections": [
    "MY4Hm1HzPS3Z"
   ],
   "provenance": []
  },
  "kernelspec": {
   "display_name": "Python 3 (ipykernel)",
   "language": "python",
   "name": "python3"
  },
  "language_info": {
   "codemirror_mode": {
    "name": "ipython",
    "version": 3
   },
   "file_extension": ".py",
   "mimetype": "text/x-python",
   "name": "python",
   "nbconvert_exporter": "python",
   "pygments_lexer": "ipython3",
   "version": "3.9.12"
  },
  "varInspector": {
   "cols": {
    "lenName": 16,
    "lenType": 16,
    "lenVar": 40
   },
   "kernels_config": {
    "python": {
     "delete_cmd_postfix": "",
     "delete_cmd_prefix": "del ",
     "library": "var_list.py",
     "varRefreshCmd": "print(var_dic_list())"
    },
    "r": {
     "delete_cmd_postfix": ") ",
     "delete_cmd_prefix": "rm(",
     "library": "var_list.r",
     "varRefreshCmd": "cat(var_dic_list()) "
    }
   },
   "position": {
    "height": "459.844px",
    "left": "1453px",
    "right": "20px",
    "top": "110px",
    "width": "465px"
   },
   "types_to_exclude": [
    "module",
    "function",
    "builtin_function_or_method",
    "instance",
    "_Feature"
   ],
   "window_display": false
  }
 },
 "nbformat": 4,
 "nbformat_minor": 5
}
