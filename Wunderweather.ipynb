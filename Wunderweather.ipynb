{
 "cells": [
  {
   "cell_type": "code",
   "execution_count": 7,
   "id": "0d4bb7c4",
   "metadata": {
    "hide_input": true
   },
   "outputs": [],
   "source": [
    "import pandas as pd\n",
    "\n",
    "import selenium.webdriver as wd\n",
    "from selenium.webdriver.common.by import By\n",
    "import time\n",
    "\n",
    "import geonamescache\n",
    "\n",
    "from ipywidgets import widgets\n",
    "\n",
    "import plotly.express as px"
   ]
  },
  {
   "cell_type": "code",
   "execution_count": 8,
   "id": "04ef1960",
   "metadata": {
    "hide_input": true
   },
   "outputs": [],
   "source": [
    "bar = widgets.IntProgress(\n",
    "        min=0,\n",
    "        max=11,\n",
    "        description='Loading:',\n",
    "        style={'bar_color': 'gray'}\n",
    "    )\n",
    "\n",
    "text = widgets.Text(placeholder='Mumbai', description='City: ')\n",
    "\n",
    "submit_button = widgets.Button(description='Submit')"
   ]
  },
  {
   "cell_type": "code",
   "execution_count": 9,
   "id": "de6d9b4c",
   "metadata": {
    "hide_input": true,
    "scrolled": true
   },
   "outputs": [],
   "source": [
    "def getWeather(city):\n",
    "    dfs = []\n",
    "    for i in range(12):\n",
    "        ccode = gc.search_cities(city)[0]['countrycode']\n",
    "        cityname = city\n",
    "\n",
    "        url = 'https://www.wunderground.com/history/monthly/{}/{}/date/2021-{}'.format(ccode, cityname, str(i+1).zfill(2))\n",
    "        \n",
    "        op = wd.EdgeOptions()\n",
    "        op.headless = True\n",
    "        dr = wd.Edge(options=op)\n",
    "\n",
    "        dr.get(url)\n",
    "\n",
    "        time.sleep(10)\n",
    "\n",
    "        a = dr.find_element(By.CSS_SELECTOR,\n",
    "                            'table.days[_ngcontent-app-root-c208] tbody[_ngcontent-app-root-c208] tr[_ngcontent-app-root-c208] td[_ngcontent-app-root-c208]:nth-child(2n)')\n",
    "\n",
    "        df = pd.DataFrame([eval(q.split()[1]) for q in a.text.split('\\n')[1:]])\n",
    "\n",
    "        dfs.append(df)\n",
    "\n",
    "        dr.quit()\n",
    "        \n",
    "        bar.value = i\n",
    "        \n",
    "    temp = pd.concat(dfs)\n",
    "        \n",
    "    temp.columns = ['Temperature (°F)']\n",
    "\n",
    "    temp.reset_index(drop=True, inplace=True)\n",
    "\n",
    "    temp.index = pd.date_range(start='2021-01', periods=len(temp), freq='D', name='Date')\n",
    "    \n",
    "    return temp"
   ]
  },
  {
   "cell_type": "code",
   "execution_count": 10,
   "id": "e1379e34",
   "metadata": {
    "hide_input": true
   },
   "outputs": [],
   "source": [
    "cityx = []\n",
    "gc = geonamescache.GeonamesCache()\n",
    "def on_button_click(b):\n",
    "    cityx.append(text.value)\n",
    "    display(bar)\n",
    "    city = cityx[0]\n",
    "    temp = getWeather(city.capitalize())\n",
    "    display(px.line(data_frame=temp, y='Temperature (°F)', color_discrete_sequence=['grey'],\n",
    "        title='{}, {} in 2021'.format(city.capitalize(), gc.search_cities(city.capitalize())[0]['countrycode'].upper())))"
   ]
  },
  {
   "cell_type": "code",
   "execution_count": 11,
   "id": "9ad17f32",
   "metadata": {
    "hide_input": true
   },
   "outputs": [],
   "source": [
    "submit_button.on_click(on_button_click)"
   ]
  },
  {
   "cell_type": "code",
   "execution_count": 12,
   "id": "2b594f7e",
   "metadata": {
    "hide_input": true,
    "scrolled": false
   },
   "outputs": [
    {
     "data": {
      "application/vnd.jupyter.widget-view+json": {
       "model_id": "307f1a66a2744c91b81b4a0086e09839",
       "version_major": 2,
       "version_minor": 0
      },
      "text/plain": [
       "Text(value='', description='City: ', placeholder='Mumbai')"
      ]
     },
     "metadata": {},
     "output_type": "display_data"
    },
    {
     "data": {
      "application/vnd.jupyter.widget-view+json": {
       "model_id": "1bc1a37190f443538457ed04e1400757",
       "version_major": 2,
       "version_minor": 0
      },
      "text/plain": [
       "Button(description='Submit', style=ButtonStyle())"
      ]
     },
     "metadata": {},
     "output_type": "display_data"
    }
   ],
   "source": [
    "display(text, submit_button)"
   ]
  }
 ],
 "metadata": {
  "kernelspec": {
   "display_name": "Python 3 (ipykernel)",
   "language": "python",
   "name": "python3"
  },
  "language_info": {
   "codemirror_mode": {
    "name": "ipython",
    "version": 3
   },
   "file_extension": ".py",
   "mimetype": "text/x-python",
   "name": "python",
   "nbconvert_exporter": "python",
   "pygments_lexer": "ipython3",
   "version": "3.9.12"
  },
  "varInspector": {
   "cols": {
    "lenName": 16,
    "lenType": 16,
    "lenVar": 40
   },
   "kernels_config": {
    "python": {
     "delete_cmd_postfix": "",
     "delete_cmd_prefix": "del ",
     "library": "var_list.py",
     "varRefreshCmd": "print(var_dic_list())"
    },
    "r": {
     "delete_cmd_postfix": ") ",
     "delete_cmd_prefix": "rm(",
     "library": "var_list.r",
     "varRefreshCmd": "cat(var_dic_list()) "
    }
   },
   "position": {
    "height": "459.844px",
    "left": "1453px",
    "right": "20px",
    "top": "110px",
    "width": "465px"
   },
   "types_to_exclude": [
    "module",
    "function",
    "builtin_function_or_method",
    "instance",
    "_Feature"
   ],
   "window_display": false
  }
 },
 "nbformat": 4,
 "nbformat_minor": 5
}
